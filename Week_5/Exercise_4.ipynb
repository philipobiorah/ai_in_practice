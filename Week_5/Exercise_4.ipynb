{
  "nbformat": 4,
  "nbformat_minor": 0,
  "metadata": {
    "kernelspec": {
      "display_name": "Python 2",
      "language": "python",
      "name": "python2"
    },
    "language_info": {
      "codemirror_mode": {
        "name": "ipython",
        "version": 2
      },
      "file_extension": ".py",
      "mimetype": "text/x-python",
      "name": "python",
      "nbconvert_exporter": "python",
      "pygments_lexer": "ipython2",
      "version": "2.7.16"
    },
    "colab": {
      "name": "Exercise_4.ipynb",
      "provenance": [],
      "collapsed_sections": []
    }
  },
  "cells": [
    {
      "cell_type": "code",
      "metadata": {
        "id": "ZHI-2JIGBTz-",
        "colab_type": "code",
        "colab": {
          "base_uri": "https://localhost:8080/",
          "height": 34
        },
        "outputId": "58f5ebf7-9c95-42f6-f41c-a89e005242d9"
      },
      "source": [
        "def dijkstra(graph,src,dest,visited=[],distances={},predecessors={}):\n",
        "    \"\"\" calculates a shortest path tree routed in src\n",
        "    \"\"\"    \n",
        "    # a few sanity checks\n",
        "    if src not in graph:\n",
        "        raise TypeError('The root of the shortest path tree cannot be found')\n",
        "    if dest not in graph:\n",
        "        raise TypeError('The target of the shortest path cannot be found')    \n",
        "    # ending condition\n",
        "    if src == dest:\n",
        "        # We build the shortest path and display it\n",
        "        path=[]\n",
        "        pred=dest\n",
        "        while pred != None:\n",
        "            path.append(pred)\n",
        "            pred=predecessors.get(pred,None)\n",
        "        print('shortest path: '+str(path)+\" cost=\"+str(distances[dest])) \n",
        "    else :     \n",
        "        # if it is the initial  run, initializes the cost\n",
        "        if not visited: \n",
        "            distances[src]=0\n",
        "        # visit the neighbors\n",
        "        for neighbor in graph[src] :\n",
        "            if neighbor not in visited:\n",
        "                new_distance = distances[src] + graph[src][neighbor]\n",
        "                if new_distance < distances.get(neighbor,float('inf')):\n",
        "                    distances[neighbor] = new_distance\n",
        "                    predecessors[neighbor] = src\n",
        "        # mark as visited\n",
        "        visited.append(src)\n",
        "        # now that all neighbors have been visited: recurse                         \n",
        "        # select the non visited node with lowest distance 'x'\n",
        "        # run Dijskstra with src='x'\n",
        "        unvisited={}\n",
        "        for k in graph:\n",
        "            if k not in visited:\n",
        "                unvisited[k] = distances.get(k,float('inf'))        \n",
        "        x=min(unvisited, key=unvisited.get)\n",
        "        dijkstra(graph,x,dest,visited,distances,predecessors)\n",
        "        \n",
        "\n",
        "\n",
        "if __name__ == \"__main__\":\n",
        "    #import sys;sys.argv = ['', 'Test.testName']\n",
        "    #unittest.main()\n",
        "    graph = {'s': {'a': 2, 'b': 1},\n",
        "            'a': {'s': 3, 'b': 4, 'c':8},\n",
        "            'b': {'s': 4, 'a': 2, 'd': 2},     # Modify this section of the code for the graph given in the exercise sheet\n",
        "            'c': {'a': 2, 'd': 7, 't': 4},     # Pick different sources and destinations and run the code\n",
        "            'd': {'b': 1, 'c': 11, 't': 5},\n",
        "            't': {'c': 3, 'd': 5}}\n",
        "    dijkstra(graph,'s','t')"
      ],
      "execution_count": 2,
      "outputs": [
        {
          "output_type": "stream",
          "text": [
            "shortest path: ['t', 'd', 'b', 's'] cost=8\n"
          ],
          "name": "stdout"
        }
      ]
    },
    {
      "cell_type": "code",
      "metadata": {
        "id": "TmVN1Iz-BT0Q",
        "colab_type": "code",
        "colab": {}
      },
      "source": [
        ""
      ],
      "execution_count": null,
      "outputs": []
    }
  ]
}